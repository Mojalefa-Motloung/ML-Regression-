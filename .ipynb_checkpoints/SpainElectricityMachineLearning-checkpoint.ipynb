{
 "cells": [
  {
   "cell_type": "markdown",
   "id": "111db1b6",
   "metadata": {},
   "source": [
    "## Spain Electricity Machine Learning"
   ]
  },
  {
   "cell_type": "markdown",
   "id": "3d425d12",
   "metadata": {},
   "source": [
    "#### 1. Importing important data viz. and number manipulation libraries"
   ]
  },
  {
   "cell_type": "code",
   "execution_count": 2,
   "id": "87e1abec",
   "metadata": {},
   "outputs": [],
   "source": [
    "#number manipulation\n",
    "import numpy as np\n",
    "import pandas as pd\n",
    "#data viz\n",
    "import matplotlib.pyplot as plt"
   ]
  },
  {
   "cell_type": "markdown",
   "id": "1edb1299",
   "metadata": {},
   "source": [
    "#### 2. Loading the data"
   ]
  },
  {
   "cell_type": "markdown",
   "id": "5669572f",
   "metadata": {},
   "source": [
    "we should loading the data into a github repo so that we can all access it"
   ]
  },
  {
   "cell_type": "code",
   "execution_count": 4,
   "id": "cfec2652",
   "metadata": {},
   "outputs": [
    {
     "data": {
      "text/html": [
       "<div>\n",
       "<style scoped>\n",
       "    .dataframe tbody tr th:only-of-type {\n",
       "        vertical-align: middle;\n",
       "    }\n",
       "\n",
       "    .dataframe tbody tr th {\n",
       "        vertical-align: top;\n",
       "    }\n",
       "\n",
       "    .dataframe thead th {\n",
       "        text-align: right;\n",
       "    }\n",
       "</style>\n",
       "<table border=\"1\" class=\"dataframe\">\n",
       "  <thead>\n",
       "    <tr style=\"text-align: right;\">\n",
       "      <th></th>\n",
       "      <th>Unnamed: 0</th>\n",
       "      <th>time</th>\n",
       "      <th>Madrid_wind_speed</th>\n",
       "      <th>Valencia_wind_deg</th>\n",
       "      <th>Bilbao_rain_1h</th>\n",
       "      <th>Valencia_wind_speed</th>\n",
       "      <th>Seville_humidity</th>\n",
       "      <th>Madrid_humidity</th>\n",
       "      <th>Bilbao_clouds_all</th>\n",
       "      <th>Bilbao_wind_speed</th>\n",
       "      <th>...</th>\n",
       "      <th>Madrid_temp_max</th>\n",
       "      <th>Barcelona_temp</th>\n",
       "      <th>Bilbao_temp_min</th>\n",
       "      <th>Bilbao_temp</th>\n",
       "      <th>Barcelona_temp_min</th>\n",
       "      <th>Bilbao_temp_max</th>\n",
       "      <th>Seville_temp_min</th>\n",
       "      <th>Madrid_temp</th>\n",
       "      <th>Madrid_temp_min</th>\n",
       "      <th>load_shortfall_3h</th>\n",
       "    </tr>\n",
       "  </thead>\n",
       "  <tbody>\n",
       "    <tr>\n",
       "      <th>0</th>\n",
       "      <td>0</td>\n",
       "      <td>2015-01-01 03:00:00</td>\n",
       "      <td>0.666667</td>\n",
       "      <td>level_5</td>\n",
       "      <td>0.0</td>\n",
       "      <td>0.666667</td>\n",
       "      <td>74.333333</td>\n",
       "      <td>64.000000</td>\n",
       "      <td>0.0</td>\n",
       "      <td>1.000000</td>\n",
       "      <td>...</td>\n",
       "      <td>265.938000</td>\n",
       "      <td>281.013000</td>\n",
       "      <td>269.338615</td>\n",
       "      <td>269.338615</td>\n",
       "      <td>281.013000</td>\n",
       "      <td>269.338615</td>\n",
       "      <td>274.254667</td>\n",
       "      <td>265.938000</td>\n",
       "      <td>265.938000</td>\n",
       "      <td>6715.666667</td>\n",
       "    </tr>\n",
       "    <tr>\n",
       "      <th>1</th>\n",
       "      <td>1</td>\n",
       "      <td>2015-01-01 06:00:00</td>\n",
       "      <td>0.333333</td>\n",
       "      <td>level_10</td>\n",
       "      <td>0.0</td>\n",
       "      <td>1.666667</td>\n",
       "      <td>78.333333</td>\n",
       "      <td>64.666667</td>\n",
       "      <td>0.0</td>\n",
       "      <td>1.000000</td>\n",
       "      <td>...</td>\n",
       "      <td>266.386667</td>\n",
       "      <td>280.561667</td>\n",
       "      <td>270.376000</td>\n",
       "      <td>270.376000</td>\n",
       "      <td>280.561667</td>\n",
       "      <td>270.376000</td>\n",
       "      <td>274.945000</td>\n",
       "      <td>266.386667</td>\n",
       "      <td>266.386667</td>\n",
       "      <td>4171.666667</td>\n",
       "    </tr>\n",
       "    <tr>\n",
       "      <th>2</th>\n",
       "      <td>2</td>\n",
       "      <td>2015-01-01 09:00:00</td>\n",
       "      <td>1.000000</td>\n",
       "      <td>level_9</td>\n",
       "      <td>0.0</td>\n",
       "      <td>1.000000</td>\n",
       "      <td>71.333333</td>\n",
       "      <td>64.333333</td>\n",
       "      <td>0.0</td>\n",
       "      <td>1.000000</td>\n",
       "      <td>...</td>\n",
       "      <td>272.708667</td>\n",
       "      <td>281.583667</td>\n",
       "      <td>275.027229</td>\n",
       "      <td>275.027229</td>\n",
       "      <td>281.583667</td>\n",
       "      <td>275.027229</td>\n",
       "      <td>278.792000</td>\n",
       "      <td>272.708667</td>\n",
       "      <td>272.708667</td>\n",
       "      <td>4274.666667</td>\n",
       "    </tr>\n",
       "    <tr>\n",
       "      <th>3</th>\n",
       "      <td>3</td>\n",
       "      <td>2015-01-01 12:00:00</td>\n",
       "      <td>1.000000</td>\n",
       "      <td>level_8</td>\n",
       "      <td>0.0</td>\n",
       "      <td>1.000000</td>\n",
       "      <td>65.333333</td>\n",
       "      <td>56.333333</td>\n",
       "      <td>0.0</td>\n",
       "      <td>1.000000</td>\n",
       "      <td>...</td>\n",
       "      <td>281.895219</td>\n",
       "      <td>283.434104</td>\n",
       "      <td>281.135063</td>\n",
       "      <td>281.135063</td>\n",
       "      <td>283.434104</td>\n",
       "      <td>281.135063</td>\n",
       "      <td>285.394000</td>\n",
       "      <td>281.895219</td>\n",
       "      <td>281.895219</td>\n",
       "      <td>5075.666667</td>\n",
       "    </tr>\n",
       "    <tr>\n",
       "      <th>4</th>\n",
       "      <td>4</td>\n",
       "      <td>2015-01-01 15:00:00</td>\n",
       "      <td>1.000000</td>\n",
       "      <td>level_7</td>\n",
       "      <td>0.0</td>\n",
       "      <td>1.000000</td>\n",
       "      <td>59.000000</td>\n",
       "      <td>57.000000</td>\n",
       "      <td>2.0</td>\n",
       "      <td>0.333333</td>\n",
       "      <td>...</td>\n",
       "      <td>280.678437</td>\n",
       "      <td>284.213167</td>\n",
       "      <td>282.252063</td>\n",
       "      <td>282.252063</td>\n",
       "      <td>284.213167</td>\n",
       "      <td>282.252063</td>\n",
       "      <td>285.513719</td>\n",
       "      <td>280.678437</td>\n",
       "      <td>280.678437</td>\n",
       "      <td>6620.666667</td>\n",
       "    </tr>\n",
       "  </tbody>\n",
       "</table>\n",
       "<p>5 rows × 49 columns</p>\n",
       "</div>"
      ],
      "text/plain": [
       "   Unnamed: 0                 time  Madrid_wind_speed Valencia_wind_deg  \\\n",
       "0           0  2015-01-01 03:00:00           0.666667           level_5   \n",
       "1           1  2015-01-01 06:00:00           0.333333          level_10   \n",
       "2           2  2015-01-01 09:00:00           1.000000           level_9   \n",
       "3           3  2015-01-01 12:00:00           1.000000           level_8   \n",
       "4           4  2015-01-01 15:00:00           1.000000           level_7   \n",
       "\n",
       "   Bilbao_rain_1h  Valencia_wind_speed  Seville_humidity  Madrid_humidity  \\\n",
       "0             0.0             0.666667         74.333333        64.000000   \n",
       "1             0.0             1.666667         78.333333        64.666667   \n",
       "2             0.0             1.000000         71.333333        64.333333   \n",
       "3             0.0             1.000000         65.333333        56.333333   \n",
       "4             0.0             1.000000         59.000000        57.000000   \n",
       "\n",
       "   Bilbao_clouds_all  Bilbao_wind_speed  ...  Madrid_temp_max  Barcelona_temp  \\\n",
       "0                0.0           1.000000  ...       265.938000      281.013000   \n",
       "1                0.0           1.000000  ...       266.386667      280.561667   \n",
       "2                0.0           1.000000  ...       272.708667      281.583667   \n",
       "3                0.0           1.000000  ...       281.895219      283.434104   \n",
       "4                2.0           0.333333  ...       280.678437      284.213167   \n",
       "\n",
       "   Bilbao_temp_min  Bilbao_temp  Barcelona_temp_min  Bilbao_temp_max  \\\n",
       "0       269.338615   269.338615          281.013000       269.338615   \n",
       "1       270.376000   270.376000          280.561667       270.376000   \n",
       "2       275.027229   275.027229          281.583667       275.027229   \n",
       "3       281.135063   281.135063          283.434104       281.135063   \n",
       "4       282.252063   282.252063          284.213167       282.252063   \n",
       "\n",
       "   Seville_temp_min Madrid_temp  Madrid_temp_min  load_shortfall_3h  \n",
       "0        274.254667  265.938000       265.938000        6715.666667  \n",
       "1        274.945000  266.386667       266.386667        4171.666667  \n",
       "2        278.792000  272.708667       272.708667        4274.666667  \n",
       "3        285.394000  281.895219       281.895219        5075.666667  \n",
       "4        285.513719  280.678437       280.678437        6620.666667  \n",
       "\n",
       "[5 rows x 49 columns]"
      ]
     },
     "execution_count": 4,
     "metadata": {},
     "output_type": "execute_result"
    }
   ],
   "source": [
    "#loading the train dataset and assigning it into the df variable\n",
    "df = pd.read_csv(\"./df_train.csv\")\n",
    "#show first 5 rows of the df\n",
    "df.head()"
   ]
  },
  {
   "cell_type": "markdown",
   "id": "31a73864",
   "metadata": {},
   "source": [
    "#### 3. Investigating the data"
   ]
  },
  {
   "cell_type": "code",
   "execution_count": 9,
   "id": "a876c6bc",
   "metadata": {},
   "outputs": [
    {
     "data": {
      "text/plain": [
       "Index(['Unnamed: 0', 'time', 'Madrid_wind_speed', 'Valencia_wind_deg',\n",
       "       'Bilbao_rain_1h', 'Valencia_wind_speed', 'Seville_humidity',\n",
       "       'Madrid_humidity', 'Bilbao_clouds_all', 'Bilbao_wind_speed',\n",
       "       'Seville_clouds_all', 'Bilbao_wind_deg', 'Barcelona_wind_speed',\n",
       "       'Barcelona_wind_deg', 'Madrid_clouds_all', 'Seville_wind_speed',\n",
       "       'Barcelona_rain_1h', 'Seville_pressure', 'Seville_rain_1h',\n",
       "       'Bilbao_snow_3h', 'Barcelona_pressure', 'Seville_rain_3h',\n",
       "       'Madrid_rain_1h', 'Barcelona_rain_3h', 'Valencia_snow_3h',\n",
       "       'Madrid_weather_id', 'Barcelona_weather_id', 'Bilbao_pressure',\n",
       "       'Seville_weather_id', 'Valencia_pressure', 'Seville_temp_max',\n",
       "       'Madrid_pressure', 'Valencia_temp_max', 'Valencia_temp',\n",
       "       'Bilbao_weather_id', 'Seville_temp', 'Valencia_humidity',\n",
       "       'Valencia_temp_min', 'Barcelona_temp_max', 'Madrid_temp_max',\n",
       "       'Barcelona_temp', 'Bilbao_temp_min', 'Bilbao_temp',\n",
       "       'Barcelona_temp_min', 'Bilbao_temp_max', 'Seville_temp_min',\n",
       "       'Madrid_temp', 'Madrid_temp_min', 'load_shortfall_3h'],\n",
       "      dtype='object')"
      ]
     },
     "execution_count": 9,
     "metadata": {},
     "output_type": "execute_result"
    }
   ],
   "source": [
    "df.columns"
   ]
  },
  {
   "cell_type": "markdown",
   "id": "be3445de",
   "metadata": {},
   "source": [
    "#### 4. GROUP BY cities"
   ]
  },
  {
   "cell_type": "markdown",
   "id": "e94eff69",
   "metadata": {},
   "source": [
    "#### 4.1 Seville"
   ]
  },
  {
   "cell_type": "markdown",
   "id": "c9335742",
   "metadata": {},
   "source": [
    "*creating a seville subset*"
   ]
  },
  {
   "cell_type": "code",
   "execution_count": 13,
   "id": "55c6ef25",
   "metadata": {
    "scrolled": true
   },
   "outputs": [
    {
     "data": {
      "text/html": [
       "<div>\n",
       "<style scoped>\n",
       "    .dataframe tbody tr th:only-of-type {\n",
       "        vertical-align: middle;\n",
       "    }\n",
       "\n",
       "    .dataframe tbody tr th {\n",
       "        vertical-align: top;\n",
       "    }\n",
       "\n",
       "    .dataframe thead th {\n",
       "        text-align: right;\n",
       "    }\n",
       "</style>\n",
       "<table border=\"1\" class=\"dataframe\">\n",
       "  <thead>\n",
       "    <tr style=\"text-align: right;\">\n",
       "      <th></th>\n",
       "      <th>time</th>\n",
       "      <th>Seville_humidity</th>\n",
       "      <th>Seville_clouds_all</th>\n",
       "      <th>Seville_wind_speed</th>\n",
       "      <th>Seville_pressure</th>\n",
       "      <th>Seville_rain_1h</th>\n",
       "      <th>Seville_rain_3h</th>\n",
       "      <th>Seville_weather_id</th>\n",
       "      <th>Seville_temp_max</th>\n",
       "      <th>Seville_temp</th>\n",
       "      <th>Valencia_humidity</th>\n",
       "      <th>Seville_temp_min</th>\n",
       "      <th>load_shortfall_3h</th>\n",
       "    </tr>\n",
       "  </thead>\n",
       "  <tbody>\n",
       "    <tr>\n",
       "      <th>0</th>\n",
       "      <td>2015-01-01 03:00:00</td>\n",
       "      <td>74.333333</td>\n",
       "      <td>0.0</td>\n",
       "      <td>3.333333</td>\n",
       "      <td>sp25</td>\n",
       "      <td>0.0</td>\n",
       "      <td>0.0</td>\n",
       "      <td>800.0</td>\n",
       "      <td>274.254667</td>\n",
       "      <td>274.254667</td>\n",
       "      <td>75.666667</td>\n",
       "      <td>274.254667</td>\n",
       "      <td>6715.666667</td>\n",
       "    </tr>\n",
       "    <tr>\n",
       "      <th>1</th>\n",
       "      <td>2015-01-01 06:00:00</td>\n",
       "      <td>78.333333</td>\n",
       "      <td>0.0</td>\n",
       "      <td>3.333333</td>\n",
       "      <td>sp25</td>\n",
       "      <td>0.0</td>\n",
       "      <td>0.0</td>\n",
       "      <td>800.0</td>\n",
       "      <td>274.945000</td>\n",
       "      <td>274.945000</td>\n",
       "      <td>71.000000</td>\n",
       "      <td>274.945000</td>\n",
       "      <td>4171.666667</td>\n",
       "    </tr>\n",
       "    <tr>\n",
       "      <th>2</th>\n",
       "      <td>2015-01-01 09:00:00</td>\n",
       "      <td>71.333333</td>\n",
       "      <td>0.0</td>\n",
       "      <td>2.666667</td>\n",
       "      <td>sp25</td>\n",
       "      <td>0.0</td>\n",
       "      <td>0.0</td>\n",
       "      <td>800.0</td>\n",
       "      <td>278.792000</td>\n",
       "      <td>278.792000</td>\n",
       "      <td>65.666667</td>\n",
       "      <td>278.792000</td>\n",
       "      <td>4274.666667</td>\n",
       "    </tr>\n",
       "    <tr>\n",
       "      <th>3</th>\n",
       "      <td>2015-01-01 12:00:00</td>\n",
       "      <td>65.333333</td>\n",
       "      <td>0.0</td>\n",
       "      <td>4.000000</td>\n",
       "      <td>sp25</td>\n",
       "      <td>0.0</td>\n",
       "      <td>0.0</td>\n",
       "      <td>800.0</td>\n",
       "      <td>285.394000</td>\n",
       "      <td>285.394000</td>\n",
       "      <td>54.000000</td>\n",
       "      <td>285.394000</td>\n",
       "      <td>5075.666667</td>\n",
       "    </tr>\n",
       "    <tr>\n",
       "      <th>4</th>\n",
       "      <td>2015-01-01 15:00:00</td>\n",
       "      <td>59.000000</td>\n",
       "      <td>0.0</td>\n",
       "      <td>3.000000</td>\n",
       "      <td>sp25</td>\n",
       "      <td>0.0</td>\n",
       "      <td>0.0</td>\n",
       "      <td>800.0</td>\n",
       "      <td>285.513719</td>\n",
       "      <td>285.513719</td>\n",
       "      <td>58.333333</td>\n",
       "      <td>285.513719</td>\n",
       "      <td>6620.666667</td>\n",
       "    </tr>\n",
       "  </tbody>\n",
       "</table>\n",
       "</div>"
      ],
      "text/plain": [
       "                  time  Seville_humidity  Seville_clouds_all  \\\n",
       "0  2015-01-01 03:00:00         74.333333                 0.0   \n",
       "1  2015-01-01 06:00:00         78.333333                 0.0   \n",
       "2  2015-01-01 09:00:00         71.333333                 0.0   \n",
       "3  2015-01-01 12:00:00         65.333333                 0.0   \n",
       "4  2015-01-01 15:00:00         59.000000                 0.0   \n",
       "\n",
       "   Seville_wind_speed Seville_pressure  Seville_rain_1h  Seville_rain_3h  \\\n",
       "0            3.333333             sp25              0.0              0.0   \n",
       "1            3.333333             sp25              0.0              0.0   \n",
       "2            2.666667             sp25              0.0              0.0   \n",
       "3            4.000000             sp25              0.0              0.0   \n",
       "4            3.000000             sp25              0.0              0.0   \n",
       "\n",
       "   Seville_weather_id  Seville_temp_max  Seville_temp  Valencia_humidity  \\\n",
       "0               800.0        274.254667    274.254667          75.666667   \n",
       "1               800.0        274.945000    274.945000          71.000000   \n",
       "2               800.0        278.792000    278.792000          65.666667   \n",
       "3               800.0        285.394000    285.394000          54.000000   \n",
       "4               800.0        285.513719    285.513719          58.333333   \n",
       "\n",
       "   Seville_temp_min  load_shortfall_3h  \n",
       "0        274.254667        6715.666667  \n",
       "1        274.945000        4171.666667  \n",
       "2        278.792000        4274.666667  \n",
       "3        285.394000        5075.666667  \n",
       "4        285.513719        6620.666667  "
      ]
     },
     "execution_count": 13,
     "metadata": {},
     "output_type": "execute_result"
    }
   ],
   "source": [
    "seville_df = df[['time','Seville_humidity',\n",
    "                 'Seville_clouds_all', 'Seville_wind_speed',\n",
    "                'Seville_pressure', 'Seville_rain_1h',\n",
    "                 'Seville_rain_3h','Seville_weather_id',\n",
    "                 'Seville_temp_max','Seville_temp',\n",
    "                 'Valencia_humidity', 'Seville_temp_min',\n",
    "                 'load_shortfall_3h']]\n",
    "seville_df.head()"
   ]
  },
  {
   "cell_type": "code",
   "execution_count": 22,
   "id": "94a6ef05",
   "metadata": {},
   "outputs": [
    {
     "data": {
      "text/plain": [
       "7825    800.0\n",
       "30      800.0\n",
       "520     800.0\n",
       "8462    800.0\n",
       "1040    800.0\n",
       "Name: Seville_weather_id, dtype: float64"
      ]
     },
     "execution_count": 22,
     "metadata": {},
     "output_type": "execute_result"
    }
   ],
   "source": [
    "seville_df['Seville_weather_id'].sample(100).head()"
   ]
  },
  {
   "cell_type": "code",
   "execution_count": null,
   "id": "e7430fe5",
   "metadata": {},
   "outputs": [],
   "source": []
  },
  {
   "cell_type": "code",
   "execution_count": null,
   "id": "5f1654c8",
   "metadata": {},
   "outputs": [],
   "source": []
  },
  {
   "cell_type": "markdown",
   "id": "fcea23d1",
   "metadata": {},
   "source": [
    "#### 4.2 Barcelona"
   ]
  },
  {
   "cell_type": "code",
   "execution_count": null,
   "id": "a77e0967",
   "metadata": {},
   "outputs": [],
   "source": []
  },
  {
   "cell_type": "code",
   "execution_count": null,
   "id": "1511b40e",
   "metadata": {},
   "outputs": [],
   "source": []
  },
  {
   "cell_type": "markdown",
   "id": "6489b2fc",
   "metadata": {},
   "source": [
    "#### 4.3 Madrid"
   ]
  },
  {
   "cell_type": "code",
   "execution_count": null,
   "id": "be7df1b2",
   "metadata": {},
   "outputs": [],
   "source": []
  },
  {
   "cell_type": "code",
   "execution_count": null,
   "id": "5cf385ea",
   "metadata": {},
   "outputs": [],
   "source": []
  },
  {
   "cell_type": "markdown",
   "id": "2dcff1f2",
   "metadata": {},
   "source": [
    "#### 4.4 Bilbao"
   ]
  },
  {
   "cell_type": "code",
   "execution_count": null,
   "id": "c2af2447",
   "metadata": {},
   "outputs": [],
   "source": []
  },
  {
   "cell_type": "code",
   "execution_count": null,
   "id": "eec0da98",
   "metadata": {},
   "outputs": [],
   "source": []
  },
  {
   "cell_type": "markdown",
   "id": "34c694c9",
   "metadata": {},
   "source": [
    "#### 4.5 Valencia"
   ]
  },
  {
   "cell_type": "code",
   "execution_count": null,
   "id": "b592fca4",
   "metadata": {},
   "outputs": [],
   "source": []
  },
  {
   "cell_type": "code",
   "execution_count": null,
   "id": "581f049a",
   "metadata": {},
   "outputs": [],
   "source": []
  }
 ],
 "metadata": {
  "kernelspec": {
   "display_name": "Python 3 (ipykernel)",
   "language": "python",
   "name": "python3"
  },
  "language_info": {
   "codemirror_mode": {
    "name": "ipython",
    "version": 3
   },
   "file_extension": ".py",
   "mimetype": "text/x-python",
   "name": "python",
   "nbconvert_exporter": "python",
   "pygments_lexer": "ipython3",
   "version": "3.9.13"
  }
 },
 "nbformat": 4,
 "nbformat_minor": 5
}
