{
 "cells": [
  {
   "cell_type": "markdown",
   "id": "111db1b6",
   "metadata": {},
   "source": [
    "## Spain Electricity Machine Learning"
   ]
  },
  {
   "cell_type": "markdown",
   "id": "3d425d12",
   "metadata": {},
   "source": [
    "#### 1. Importing important data viz. and number manipulation libraries"
   ]
  },
  {
   "cell_type": "code",
   "execution_count": 1,
   "id": "87e1abec",
   "metadata": {},
   "outputs": [],
   "source": [
    "#number manipulation\n",
    "import numpy as np\n",
    "import pandas as pd\n",
    "\n",
    "#data viz\n",
    "import matplotlib.pyplot as plt\n",
    "import seaborn as sns\n",
    "\n",
    "#figure size parameter\n",
    "#plt.rcParams['figure.figsize'] = [4, 4]"
   ]
  },
  {
   "cell_type": "markdown",
   "id": "1edb1299",
   "metadata": {},
   "source": [
    "#### 2. Loading the data"
   ]
  },
  {
   "cell_type": "markdown",
   "id": "5669572f",
   "metadata": {},
   "source": [
    "we should loading the data into a github repo so that we can all access it"
   ]
  },
  {
   "cell_type": "code",
   "execution_count": 2,
   "id": "cfec2652",
   "metadata": {},
   "outputs": [
    {
     "data": {
      "text/html": [
       "<div>\n",
       "<style scoped>\n",
       "    .dataframe tbody tr th:only-of-type {\n",
       "        vertical-align: middle;\n",
       "    }\n",
       "\n",
       "    .dataframe tbody tr th {\n",
       "        vertical-align: top;\n",
       "    }\n",
       "\n",
       "    .dataframe thead th {\n",
       "        text-align: right;\n",
       "    }\n",
       "</style>\n",
       "<table border=\"1\" class=\"dataframe\">\n",
       "  <thead>\n",
       "    <tr style=\"text-align: right;\">\n",
       "      <th></th>\n",
       "      <th>Unnamed: 0</th>\n",
       "      <th>time</th>\n",
       "      <th>Madrid_wind_speed</th>\n",
       "      <th>Valencia_wind_deg</th>\n",
       "      <th>Bilbao_rain_1h</th>\n",
       "      <th>Valencia_wind_speed</th>\n",
       "      <th>Seville_humidity</th>\n",
       "      <th>Madrid_humidity</th>\n",
       "      <th>Bilbao_clouds_all</th>\n",
       "      <th>Bilbao_wind_speed</th>\n",
       "      <th>...</th>\n",
       "      <th>Madrid_temp_max</th>\n",
       "      <th>Barcelona_temp</th>\n",
       "      <th>Bilbao_temp_min</th>\n",
       "      <th>Bilbao_temp</th>\n",
       "      <th>Barcelona_temp_min</th>\n",
       "      <th>Bilbao_temp_max</th>\n",
       "      <th>Seville_temp_min</th>\n",
       "      <th>Madrid_temp</th>\n",
       "      <th>Madrid_temp_min</th>\n",
       "      <th>load_shortfall_3h</th>\n",
       "    </tr>\n",
       "  </thead>\n",
       "  <tbody>\n",
       "    <tr>\n",
       "      <th>0</th>\n",
       "      <td>0</td>\n",
       "      <td>2015-01-01 03:00:00</td>\n",
       "      <td>0.666667</td>\n",
       "      <td>level_5</td>\n",
       "      <td>0.0</td>\n",
       "      <td>0.666667</td>\n",
       "      <td>74.333333</td>\n",
       "      <td>64.000000</td>\n",
       "      <td>0.0</td>\n",
       "      <td>1.000000</td>\n",
       "      <td>...</td>\n",
       "      <td>265.938000</td>\n",
       "      <td>281.013000</td>\n",
       "      <td>269.338615</td>\n",
       "      <td>269.338615</td>\n",
       "      <td>281.013000</td>\n",
       "      <td>269.338615</td>\n",
       "      <td>274.254667</td>\n",
       "      <td>265.938000</td>\n",
       "      <td>265.938000</td>\n",
       "      <td>6715.666667</td>\n",
       "    </tr>\n",
       "    <tr>\n",
       "      <th>1</th>\n",
       "      <td>1</td>\n",
       "      <td>2015-01-01 06:00:00</td>\n",
       "      <td>0.333333</td>\n",
       "      <td>level_10</td>\n",
       "      <td>0.0</td>\n",
       "      <td>1.666667</td>\n",
       "      <td>78.333333</td>\n",
       "      <td>64.666667</td>\n",
       "      <td>0.0</td>\n",
       "      <td>1.000000</td>\n",
       "      <td>...</td>\n",
       "      <td>266.386667</td>\n",
       "      <td>280.561667</td>\n",
       "      <td>270.376000</td>\n",
       "      <td>270.376000</td>\n",
       "      <td>280.561667</td>\n",
       "      <td>270.376000</td>\n",
       "      <td>274.945000</td>\n",
       "      <td>266.386667</td>\n",
       "      <td>266.386667</td>\n",
       "      <td>4171.666667</td>\n",
       "    </tr>\n",
       "    <tr>\n",
       "      <th>2</th>\n",
       "      <td>2</td>\n",
       "      <td>2015-01-01 09:00:00</td>\n",
       "      <td>1.000000</td>\n",
       "      <td>level_9</td>\n",
       "      <td>0.0</td>\n",
       "      <td>1.000000</td>\n",
       "      <td>71.333333</td>\n",
       "      <td>64.333333</td>\n",
       "      <td>0.0</td>\n",
       "      <td>1.000000</td>\n",
       "      <td>...</td>\n",
       "      <td>272.708667</td>\n",
       "      <td>281.583667</td>\n",
       "      <td>275.027229</td>\n",
       "      <td>275.027229</td>\n",
       "      <td>281.583667</td>\n",
       "      <td>275.027229</td>\n",
       "      <td>278.792000</td>\n",
       "      <td>272.708667</td>\n",
       "      <td>272.708667</td>\n",
       "      <td>4274.666667</td>\n",
       "    </tr>\n",
       "    <tr>\n",
       "      <th>3</th>\n",
       "      <td>3</td>\n",
       "      <td>2015-01-01 12:00:00</td>\n",
       "      <td>1.000000</td>\n",
       "      <td>level_8</td>\n",
       "      <td>0.0</td>\n",
       "      <td>1.000000</td>\n",
       "      <td>65.333333</td>\n",
       "      <td>56.333333</td>\n",
       "      <td>0.0</td>\n",
       "      <td>1.000000</td>\n",
       "      <td>...</td>\n",
       "      <td>281.895219</td>\n",
       "      <td>283.434104</td>\n",
       "      <td>281.135063</td>\n",
       "      <td>281.135063</td>\n",
       "      <td>283.434104</td>\n",
       "      <td>281.135063</td>\n",
       "      <td>285.394000</td>\n",
       "      <td>281.895219</td>\n",
       "      <td>281.895219</td>\n",
       "      <td>5075.666667</td>\n",
       "    </tr>\n",
       "    <tr>\n",
       "      <th>4</th>\n",
       "      <td>4</td>\n",
       "      <td>2015-01-01 15:00:00</td>\n",
       "      <td>1.000000</td>\n",
       "      <td>level_7</td>\n",
       "      <td>0.0</td>\n",
       "      <td>1.000000</td>\n",
       "      <td>59.000000</td>\n",
       "      <td>57.000000</td>\n",
       "      <td>2.0</td>\n",
       "      <td>0.333333</td>\n",
       "      <td>...</td>\n",
       "      <td>280.678437</td>\n",
       "      <td>284.213167</td>\n",
       "      <td>282.252063</td>\n",
       "      <td>282.252063</td>\n",
       "      <td>284.213167</td>\n",
       "      <td>282.252063</td>\n",
       "      <td>285.513719</td>\n",
       "      <td>280.678437</td>\n",
       "      <td>280.678437</td>\n",
       "      <td>6620.666667</td>\n",
       "    </tr>\n",
       "  </tbody>\n",
       "</table>\n",
       "<p>5 rows × 49 columns</p>\n",
       "</div>"
      ],
      "text/plain": [
       "   Unnamed: 0                 time  Madrid_wind_speed Valencia_wind_deg  \\\n",
       "0           0  2015-01-01 03:00:00           0.666667           level_5   \n",
       "1           1  2015-01-01 06:00:00           0.333333          level_10   \n",
       "2           2  2015-01-01 09:00:00           1.000000           level_9   \n",
       "3           3  2015-01-01 12:00:00           1.000000           level_8   \n",
       "4           4  2015-01-01 15:00:00           1.000000           level_7   \n",
       "\n",
       "   Bilbao_rain_1h  Valencia_wind_speed  Seville_humidity  Madrid_humidity  \\\n",
       "0             0.0             0.666667         74.333333        64.000000   \n",
       "1             0.0             1.666667         78.333333        64.666667   \n",
       "2             0.0             1.000000         71.333333        64.333333   \n",
       "3             0.0             1.000000         65.333333        56.333333   \n",
       "4             0.0             1.000000         59.000000        57.000000   \n",
       "\n",
       "   Bilbao_clouds_all  Bilbao_wind_speed  ...  Madrid_temp_max  Barcelona_temp  \\\n",
       "0                0.0           1.000000  ...       265.938000      281.013000   \n",
       "1                0.0           1.000000  ...       266.386667      280.561667   \n",
       "2                0.0           1.000000  ...       272.708667      281.583667   \n",
       "3                0.0           1.000000  ...       281.895219      283.434104   \n",
       "4                2.0           0.333333  ...       280.678437      284.213167   \n",
       "\n",
       "   Bilbao_temp_min  Bilbao_temp  Barcelona_temp_min  Bilbao_temp_max  \\\n",
       "0       269.338615   269.338615          281.013000       269.338615   \n",
       "1       270.376000   270.376000          280.561667       270.376000   \n",
       "2       275.027229   275.027229          281.583667       275.027229   \n",
       "3       281.135063   281.135063          283.434104       281.135063   \n",
       "4       282.252063   282.252063          284.213167       282.252063   \n",
       "\n",
       "   Seville_temp_min Madrid_temp  Madrid_temp_min  load_shortfall_3h  \n",
       "0        274.254667  265.938000       265.938000        6715.666667  \n",
       "1        274.945000  266.386667       266.386667        4171.666667  \n",
       "2        278.792000  272.708667       272.708667        4274.666667  \n",
       "3        285.394000  281.895219       281.895219        5075.666667  \n",
       "4        285.513719  280.678437       280.678437        6620.666667  \n",
       "\n",
       "[5 rows x 49 columns]"
      ]
     },
     "execution_count": 2,
     "metadata": {},
     "output_type": "execute_result"
    }
   ],
   "source": [
    "#loading the train dataset and assigning it into the df variable\n",
    "df = pd.read_csv(\"./df_train.csv\")\n",
    "#show first 5 rows of the df\n",
    "df.head()"
   ]
  },
  {
   "cell_type": "markdown",
   "id": "31a73864",
   "metadata": {},
   "source": [
    "#### 3. Investigating the data"
   ]
  },
  {
   "cell_type": "code",
   "execution_count": 3,
   "id": "a876c6bc",
   "metadata": {},
   "outputs": [
    {
     "data": {
      "text/plain": [
       "Index(['Unnamed: 0', 'time', 'Madrid_wind_speed', 'Valencia_wind_deg',\n",
       "       'Bilbao_rain_1h', 'Valencia_wind_speed', 'Seville_humidity',\n",
       "       'Madrid_humidity', 'Bilbao_clouds_all', 'Bilbao_wind_speed',\n",
       "       'Seville_clouds_all', 'Bilbao_wind_deg', 'Barcelona_wind_speed',\n",
       "       'Barcelona_wind_deg', 'Madrid_clouds_all', 'Seville_wind_speed',\n",
       "       'Barcelona_rain_1h', 'Seville_pressure', 'Seville_rain_1h',\n",
       "       'Bilbao_snow_3h', 'Barcelona_pressure', 'Seville_rain_3h',\n",
       "       'Madrid_rain_1h', 'Barcelona_rain_3h', 'Valencia_snow_3h',\n",
       "       'Madrid_weather_id', 'Barcelona_weather_id', 'Bilbao_pressure',\n",
       "       'Seville_weather_id', 'Valencia_pressure', 'Seville_temp_max',\n",
       "       'Madrid_pressure', 'Valencia_temp_max', 'Valencia_temp',\n",
       "       'Bilbao_weather_id', 'Seville_temp', 'Valencia_humidity',\n",
       "       'Valencia_temp_min', 'Barcelona_temp_max', 'Madrid_temp_max',\n",
       "       'Barcelona_temp', 'Bilbao_temp_min', 'Bilbao_temp',\n",
       "       'Barcelona_temp_min', 'Bilbao_temp_max', 'Seville_temp_min',\n",
       "       'Madrid_temp', 'Madrid_temp_min', 'load_shortfall_3h'],\n",
       "      dtype='object')"
      ]
     },
     "execution_count": 3,
     "metadata": {},
     "output_type": "execute_result"
    }
   ],
   "source": [
    "df.columns"
   ]
  },
  {
   "cell_type": "markdown",
   "id": "be3445de",
   "metadata": {},
   "source": [
    "#### 4. GROUP BY cities"
   ]
  },
  {
   "cell_type": "markdown",
   "id": "e94eff69",
   "metadata": {},
   "source": [
    "#### 4.1 Valencia\n",
    "*Emmanuel*"
   ]
  },
  {
   "cell_type": "markdown",
   "id": "c9335742",
   "metadata": {},
   "source": [
    "Creating a Valencia subset."
   ]
  },
  {
   "cell_type": "code",
   "execution_count": 13,
   "id": "30519ba5",
   "metadata": {},
   "outputs": [
    {
     "data": {
      "text/html": [
       "<div>\n",
       "<style scoped>\n",
       "    .dataframe tbody tr th:only-of-type {\n",
       "        vertical-align: middle;\n",
       "    }\n",
       "\n",
       "    .dataframe tbody tr th {\n",
       "        vertical-align: top;\n",
       "    }\n",
       "\n",
       "    .dataframe thead th {\n",
       "        text-align: right;\n",
       "    }\n",
       "</style>\n",
       "<table border=\"1\" class=\"dataframe\">\n",
       "  <thead>\n",
       "    <tr style=\"text-align: right;\">\n",
       "      <th></th>\n",
       "      <th>time</th>\n",
       "      <th>Valencia_wind_deg</th>\n",
       "      <th>Valencia_wind_speed</th>\n",
       "      <th>Valencia_snow_3h</th>\n",
       "      <th>Valencia_pressure</th>\n",
       "      <th>Valencia_temp_max</th>\n",
       "      <th>Valencia_temp</th>\n",
       "      <th>Valencia_humidity</th>\n",
       "      <th>Valencia_temp_min</th>\n",
       "      <th>load_shortfall_3h</th>\n",
       "    </tr>\n",
       "  </thead>\n",
       "  <tbody>\n",
       "    <tr>\n",
       "      <th>0</th>\n",
       "      <td>2015-01-01 03:00:00</td>\n",
       "      <td>level_5</td>\n",
       "      <td>0.666667</td>\n",
       "      <td>0.0</td>\n",
       "      <td>1002.666667</td>\n",
       "      <td>269.888000</td>\n",
       "      <td>269.888000</td>\n",
       "      <td>75.666667</td>\n",
       "      <td>269.888000</td>\n",
       "      <td>6715.666667</td>\n",
       "    </tr>\n",
       "    <tr>\n",
       "      <th>1</th>\n",
       "      <td>2015-01-01 06:00:00</td>\n",
       "      <td>level_10</td>\n",
       "      <td>1.666667</td>\n",
       "      <td>0.0</td>\n",
       "      <td>1004.333333</td>\n",
       "      <td>271.728333</td>\n",
       "      <td>271.728333</td>\n",
       "      <td>71.000000</td>\n",
       "      <td>271.728333</td>\n",
       "      <td>4171.666667</td>\n",
       "    </tr>\n",
       "    <tr>\n",
       "      <th>2</th>\n",
       "      <td>2015-01-01 09:00:00</td>\n",
       "      <td>level_9</td>\n",
       "      <td>1.000000</td>\n",
       "      <td>0.0</td>\n",
       "      <td>1005.333333</td>\n",
       "      <td>278.008667</td>\n",
       "      <td>278.008667</td>\n",
       "      <td>65.666667</td>\n",
       "      <td>278.008667</td>\n",
       "      <td>4274.666667</td>\n",
       "    </tr>\n",
       "    <tr>\n",
       "      <th>3</th>\n",
       "      <td>2015-01-01 12:00:00</td>\n",
       "      <td>level_8</td>\n",
       "      <td>1.000000</td>\n",
       "      <td>0.0</td>\n",
       "      <td>1009.000000</td>\n",
       "      <td>284.899552</td>\n",
       "      <td>284.899552</td>\n",
       "      <td>54.000000</td>\n",
       "      <td>284.899552</td>\n",
       "      <td>5075.666667</td>\n",
       "    </tr>\n",
       "    <tr>\n",
       "      <th>4</th>\n",
       "      <td>2015-01-01 15:00:00</td>\n",
       "      <td>level_7</td>\n",
       "      <td>1.000000</td>\n",
       "      <td>0.0</td>\n",
       "      <td>NaN</td>\n",
       "      <td>283.015115</td>\n",
       "      <td>283.015115</td>\n",
       "      <td>58.333333</td>\n",
       "      <td>283.015115</td>\n",
       "      <td>6620.666667</td>\n",
       "    </tr>\n",
       "  </tbody>\n",
       "</table>\n",
       "</div>"
      ],
      "text/plain": [
       "                  time Valencia_wind_deg  Valencia_wind_speed  \\\n",
       "0  2015-01-01 03:00:00           level_5             0.666667   \n",
       "1  2015-01-01 06:00:00          level_10             1.666667   \n",
       "2  2015-01-01 09:00:00           level_9             1.000000   \n",
       "3  2015-01-01 12:00:00           level_8             1.000000   \n",
       "4  2015-01-01 15:00:00           level_7             1.000000   \n",
       "\n",
       "   Valencia_snow_3h  Valencia_pressure  Valencia_temp_max  Valencia_temp  \\\n",
       "0               0.0        1002.666667         269.888000     269.888000   \n",
       "1               0.0        1004.333333         271.728333     271.728333   \n",
       "2               0.0        1005.333333         278.008667     278.008667   \n",
       "3               0.0        1009.000000         284.899552     284.899552   \n",
       "4               0.0                NaN         283.015115     283.015115   \n",
       "\n",
       "   Valencia_humidity  Valencia_temp_min  load_shortfall_3h  \n",
       "0          75.666667         269.888000        6715.666667  \n",
       "1          71.000000         271.728333        4171.666667  \n",
       "2          65.666667         278.008667        4274.666667  \n",
       "3          54.000000         284.899552        5075.666667  \n",
       "4          58.333333         283.015115        6620.666667  "
      ]
     },
     "execution_count": 13,
     "metadata": {},
     "output_type": "execute_result"
    }
   ],
   "source": [
    "valencia_df = df[[\"time\", \"Valencia_wind_deg\", \"Valencia_wind_speed\", \"Valencia_snow_3h\",\n",
    "          \"Valencia_pressure\", \"Valencia_temp_max\", \"Valencia_temp\", \"Valencia_humidity\",\n",
    "          \"Valencia_temp_min\", \"load_shortfall_3h\"]]\n",
    "\n",
    "valencia_df.head()\n"
   ]
  },
  {
   "cell_type": "markdown",
   "id": "6f67010e",
   "metadata": {},
   "source": [
    "In the Valencia subset above, taking look at the \"Valencia_pressure\" column row number 4. There is a missing value, so now lets perform an in depth analysis for missing values to the entire data."
   ]
  },
  {
   "cell_type": "code",
   "execution_count": 14,
   "id": "e2cbd4ea",
   "metadata": {},
   "outputs": [
    {
     "data": {
      "text/plain": [
       "Unnamed: 0                 0\n",
       "time                       0\n",
       "Madrid_wind_speed          0\n",
       "Valencia_wind_deg          0\n",
       "Bilbao_rain_1h             0\n",
       "Valencia_wind_speed        0\n",
       "Seville_humidity           0\n",
       "Madrid_humidity            0\n",
       "Bilbao_clouds_all          0\n",
       "Bilbao_wind_speed          0\n",
       "Seville_clouds_all         0\n",
       "Bilbao_wind_deg            0\n",
       "Barcelona_wind_speed       0\n",
       "Barcelona_wind_deg         0\n",
       "Madrid_clouds_all          0\n",
       "Seville_wind_speed         0\n",
       "Barcelona_rain_1h          0\n",
       "Seville_pressure           0\n",
       "Seville_rain_1h            0\n",
       "Bilbao_snow_3h             0\n",
       "Barcelona_pressure         0\n",
       "Seville_rain_3h            0\n",
       "Madrid_rain_1h             0\n",
       "Barcelona_rain_3h          0\n",
       "Valencia_snow_3h           0\n",
       "Madrid_weather_id          0\n",
       "Barcelona_weather_id       0\n",
       "Bilbao_pressure            0\n",
       "Seville_weather_id         0\n",
       "Valencia_pressure       2068\n",
       "Seville_temp_max           0\n",
       "Madrid_pressure            0\n",
       "Valencia_temp_max          0\n",
       "Valencia_temp              0\n",
       "Bilbao_weather_id          0\n",
       "Seville_temp               0\n",
       "Valencia_humidity          0\n",
       "Valencia_temp_min          0\n",
       "Barcelona_temp_max         0\n",
       "Madrid_temp_max            0\n",
       "Barcelona_temp             0\n",
       "Bilbao_temp_min            0\n",
       "Bilbao_temp                0\n",
       "Barcelona_temp_min         0\n",
       "Bilbao_temp_max            0\n",
       "Seville_temp_min           0\n",
       "Madrid_temp                0\n",
       "Madrid_temp_min            0\n",
       "load_shortfall_3h          0\n",
       "dtype: int64"
      ]
     },
     "execution_count": 14,
     "metadata": {},
     "output_type": "execute_result"
    }
   ],
   "source": [
    "df.isnull().sum()"
   ]
  },
  {
   "cell_type": "markdown",
   "id": "1a8e9eae",
   "metadata": {},
   "source": [
    "The above results shows that all cities have no missing values excluding Valencia city. Then now that we have only one column with missing values in the Valencia subset and it contains numerical data, we can simlpy replace the missing values with the mean."
   ]
  },
  {
   "cell_type": "code",
   "execution_count": 19,
   "id": "a6a992c8",
   "metadata": {},
   "outputs": [],
   "source": [
    "# Calcuting the mean of the Valencia_pressure column\n",
    "mean_v = df[\"Valencia_pressure\"].mean()"
   ]
  },
  {
   "cell_type": "code",
   "execution_count": 20,
   "id": "f9e02126",
   "metadata": {
    "scrolled": true
   },
   "outputs": [
    {
     "name": "stdout",
     "output_type": "stream",
     "text": [
      "mean 1012.0514065222828\n"
     ]
    }
   ],
   "source": [
    "print(\"mean\",mean_v)"
   ]
  },
  {
   "cell_type": "code",
   "execution_count": 23,
   "id": "94d03297",
   "metadata": {},
   "outputs": [],
   "source": [
    "# Replacing missing values in the Valencia_pressure column with the mean calculated above\n",
    "df[\"Valencia_pressure\"].fillna(value = mean_v,\\\n",
    "                                     inplace = True)"
   ]
  },
  {
   "cell_type": "code",
   "execution_count": 26,
   "id": "242a71bf",
   "metadata": {},
   "outputs": [
    {
     "data": {
      "text/html": [
       "<div>\n",
       "<style scoped>\n",
       "    .dataframe tbody tr th:only-of-type {\n",
       "        vertical-align: middle;\n",
       "    }\n",
       "\n",
       "    .dataframe tbody tr th {\n",
       "        vertical-align: top;\n",
       "    }\n",
       "\n",
       "    .dataframe thead th {\n",
       "        text-align: right;\n",
       "    }\n",
       "</style>\n",
       "<table border=\"1\" class=\"dataframe\">\n",
       "  <thead>\n",
       "    <tr style=\"text-align: right;\">\n",
       "      <th></th>\n",
       "      <th>Valencia_pressure</th>\n",
       "    </tr>\n",
       "  </thead>\n",
       "  <tbody>\n",
       "    <tr>\n",
       "      <th>0</th>\n",
       "      <td>1002.666667</td>\n",
       "    </tr>\n",
       "    <tr>\n",
       "      <th>1</th>\n",
       "      <td>1004.333333</td>\n",
       "    </tr>\n",
       "    <tr>\n",
       "      <th>2</th>\n",
       "      <td>1005.333333</td>\n",
       "    </tr>\n",
       "    <tr>\n",
       "      <th>3</th>\n",
       "      <td>1009.000000</td>\n",
       "    </tr>\n",
       "    <tr>\n",
       "      <th>4</th>\n",
       "      <td>1012.051407</td>\n",
       "    </tr>\n",
       "    <tr>\n",
       "      <th>5</th>\n",
       "      <td>1012.051407</td>\n",
       "    </tr>\n",
       "    <tr>\n",
       "      <th>6</th>\n",
       "      <td>1006.000000</td>\n",
       "    </tr>\n",
       "  </tbody>\n",
       "</table>\n",
       "</div>"
      ],
      "text/plain": [
       "   Valencia_pressure\n",
       "0        1002.666667\n",
       "1        1004.333333\n",
       "2        1005.333333\n",
       "3        1009.000000\n",
       "4        1012.051407\n",
       "5        1012.051407\n",
       "6        1006.000000"
      ]
     },
     "execution_count": 26,
     "metadata": {},
     "output_type": "execute_result"
    }
   ],
   "source": [
    "# Verifying if the missing values were successfully replaced\n",
    "df[[\"Valencia_pressure\"]].iloc[0:7,:]"
   ]
  },
  {
   "cell_type": "markdown",
   "id": "452fb08f",
   "metadata": {},
   "source": [
    "By looking at the \"\tValencia_pressure\" column row number 4 and 5 above, it shows that we have successfully replaced the missing values with the mean of the column."
   ]
  },
  {
   "cell_type": "markdown",
   "id": "a671b3dd",
   "metadata": {},
   "source": [
    "Now lets assess the correlation of the Valencia subset."
   ]
  },
  {
   "cell_type": "code",
   "execution_count": 29,
   "id": "22f3cba0",
   "metadata": {},
   "outputs": [
    {
     "data": {
      "text/html": [
       "<div>\n",
       "<style scoped>\n",
       "    .dataframe tbody tr th:only-of-type {\n",
       "        vertical-align: middle;\n",
       "    }\n",
       "\n",
       "    .dataframe tbody tr th {\n",
       "        vertical-align: top;\n",
       "    }\n",
       "\n",
       "    .dataframe thead th {\n",
       "        text-align: right;\n",
       "    }\n",
       "</style>\n",
       "<table border=\"1\" class=\"dataframe\">\n",
       "  <thead>\n",
       "    <tr style=\"text-align: right;\">\n",
       "      <th></th>\n",
       "      <th>Valencia_wind_speed</th>\n",
       "      <th>Valencia_snow_3h</th>\n",
       "      <th>Valencia_pressure</th>\n",
       "      <th>Valencia_temp_max</th>\n",
       "      <th>Valencia_temp</th>\n",
       "      <th>Valencia_humidity</th>\n",
       "      <th>Valencia_temp_min</th>\n",
       "      <th>load_shortfall_3h</th>\n",
       "    </tr>\n",
       "  </thead>\n",
       "  <tbody>\n",
       "    <tr>\n",
       "      <th>Valencia_wind_speed</th>\n",
       "      <td>1.000000</td>\n",
       "      <td>0.058629</td>\n",
       "      <td>-0.041408</td>\n",
       "      <td>0.065815</td>\n",
       "      <td>0.072366</td>\n",
       "      <td>-0.413017</td>\n",
       "      <td>0.075533</td>\n",
       "      <td>-0.142791</td>\n",
       "    </tr>\n",
       "    <tr>\n",
       "      <th>Valencia_snow_3h</th>\n",
       "      <td>0.058629</td>\n",
       "      <td>1.000000</td>\n",
       "      <td>-0.027016</td>\n",
       "      <td>-0.027693</td>\n",
       "      <td>-0.027452</td>\n",
       "      <td>-0.019085</td>\n",
       "      <td>-0.026649</td>\n",
       "      <td>-0.021633</td>\n",
       "    </tr>\n",
       "    <tr>\n",
       "      <th>Valencia_pressure</th>\n",
       "      <td>-0.041408</td>\n",
       "      <td>-0.027016</td>\n",
       "      <td>1.000000</td>\n",
       "      <td>0.114845</td>\n",
       "      <td>0.087385</td>\n",
       "      <td>-0.021253</td>\n",
       "      <td>0.055783</td>\n",
       "      <td>0.086022</td>\n",
       "    </tr>\n",
       "    <tr>\n",
       "      <th>Valencia_temp_max</th>\n",
       "      <td>0.065815</td>\n",
       "      <td>-0.027693</td>\n",
       "      <td>0.114845</td>\n",
       "      <td>1.000000</td>\n",
       "      <td>0.987533</td>\n",
       "      <td>-0.399380</td>\n",
       "      <td>0.949377</td>\n",
       "      <td>0.144270</td>\n",
       "    </tr>\n",
       "    <tr>\n",
       "      <th>Valencia_temp</th>\n",
       "      <td>0.072366</td>\n",
       "      <td>-0.027452</td>\n",
       "      <td>0.087385</td>\n",
       "      <td>0.987533</td>\n",
       "      <td>1.000000</td>\n",
       "      <td>-0.413654</td>\n",
       "      <td>0.985479</td>\n",
       "      <td>0.173225</td>\n",
       "    </tr>\n",
       "    <tr>\n",
       "      <th>Valencia_humidity</th>\n",
       "      <td>-0.413017</td>\n",
       "      <td>-0.019085</td>\n",
       "      <td>-0.021253</td>\n",
       "      <td>-0.399380</td>\n",
       "      <td>-0.413654</td>\n",
       "      <td>1.000000</td>\n",
       "      <td>-0.413537</td>\n",
       "      <td>0.043140</td>\n",
       "    </tr>\n",
       "    <tr>\n",
       "      <th>Valencia_temp_min</th>\n",
       "      <td>0.075533</td>\n",
       "      <td>-0.026649</td>\n",
       "      <td>0.055783</td>\n",
       "      <td>0.949377</td>\n",
       "      <td>0.985479</td>\n",
       "      <td>-0.413537</td>\n",
       "      <td>1.000000</td>\n",
       "      <td>0.201863</td>\n",
       "    </tr>\n",
       "    <tr>\n",
       "      <th>load_shortfall_3h</th>\n",
       "      <td>-0.142791</td>\n",
       "      <td>-0.021633</td>\n",
       "      <td>0.086022</td>\n",
       "      <td>0.144270</td>\n",
       "      <td>0.173225</td>\n",
       "      <td>0.043140</td>\n",
       "      <td>0.201863</td>\n",
       "      <td>1.000000</td>\n",
       "    </tr>\n",
       "  </tbody>\n",
       "</table>\n",
       "</div>"
      ],
      "text/plain": [
       "                     Valencia_wind_speed  Valencia_snow_3h  Valencia_pressure  \\\n",
       "Valencia_wind_speed             1.000000          0.058629          -0.041408   \n",
       "Valencia_snow_3h                0.058629          1.000000          -0.027016   \n",
       "Valencia_pressure              -0.041408         -0.027016           1.000000   \n",
       "Valencia_temp_max               0.065815         -0.027693           0.114845   \n",
       "Valencia_temp                   0.072366         -0.027452           0.087385   \n",
       "Valencia_humidity              -0.413017         -0.019085          -0.021253   \n",
       "Valencia_temp_min               0.075533         -0.026649           0.055783   \n",
       "load_shortfall_3h              -0.142791         -0.021633           0.086022   \n",
       "\n",
       "                     Valencia_temp_max  Valencia_temp  Valencia_humidity  \\\n",
       "Valencia_wind_speed           0.065815       0.072366          -0.413017   \n",
       "Valencia_snow_3h             -0.027693      -0.027452          -0.019085   \n",
       "Valencia_pressure             0.114845       0.087385          -0.021253   \n",
       "Valencia_temp_max             1.000000       0.987533          -0.399380   \n",
       "Valencia_temp                 0.987533       1.000000          -0.413654   \n",
       "Valencia_humidity            -0.399380      -0.413654           1.000000   \n",
       "Valencia_temp_min             0.949377       0.985479          -0.413537   \n",
       "load_shortfall_3h             0.144270       0.173225           0.043140   \n",
       "\n",
       "                     Valencia_temp_min  load_shortfall_3h  \n",
       "Valencia_wind_speed           0.075533          -0.142791  \n",
       "Valencia_snow_3h             -0.026649          -0.021633  \n",
       "Valencia_pressure             0.055783           0.086022  \n",
       "Valencia_temp_max             0.949377           0.144270  \n",
       "Valencia_temp                 0.985479           0.173225  \n",
       "Valencia_humidity            -0.413537           0.043140  \n",
       "Valencia_temp_min             1.000000           0.201863  \n",
       "load_shortfall_3h             0.201863           1.000000  "
      ]
     },
     "execution_count": 29,
     "metadata": {},
     "output_type": "execute_result"
    }
   ],
   "source": [
    "valencia_df.corr()"
   ]
  },
  {
   "cell_type": "code",
   "execution_count": 30,
   "id": "e9eb59f6",
   "metadata": {},
   "outputs": [
    {
     "data": {
      "text/plain": [
       "<AxesSubplot:>"
      ]
     },
     "execution_count": 30,
     "metadata": {},
     "output_type": "execute_result"
    },
    {
     "data": {
      "image/png": "[encoded data removed]",
      "text/plain": [
       "<Figure size 1000x1000 with 2 Axes>"
      ]
     },
     "metadata": {},
     "output_type": "display_data"
    }
   ],
   "source": [
    "# Using heatmap\n",
    "\n",
    "fig, ax = plt.subplots(figsize=(10, 10))\n",
    "corrValencia_df = valencia_df.corr()\n",
    "sns.heatmap(corrValencia_df, annot=True)"
   ]
  },
  {
   "cell_type": "markdown",
   "id": "8567c995",
   "metadata": {},
   "source": [
    "\n",
    "|   Pearson Correlation Coefficient (r)  |       Description of Relationship     |\n",
    "|:-------------------|:---------------:|\n",
    "|  r = -1              |Perfect Negative Correlation |\n",
    "| -1 < r < -0.8 | Strong Negative Correlation  | \n",
    "| - 0.8 < r < -0.5             | Moderate Negative Correlation  | \n",
    "|       - 0.5 < r < 0     |Weak Negative Correlation  | \n",
    "|       r = 0  |No Linear Correlation | \n",
    "| 0 < r < 0.5 | Weak Positive Correlation  | \n",
    "| 0.5 < r < 0.8             | Moderate Positive Correlation  | \n",
    "|       0.8 < r < 1     |Strong Positive Correlation  | \n",
    "|       r = 1  |Perfect Positive Correlation | \n"
   ]
  },
  {
   "cell_type": "markdown",
   "id": "d5590fc1",
   "metadata": {},
   "source": [
    "In the **heatmap** above, the column Valencia_humidity has weak negative & positive Correlation which I percieve it has an effect on the load_short column."
   ]
  },
  {
   "cell_type": "code",
   "execution_count": 36,
   "id": "6437e2af",
   "metadata": {},
   "outputs": [
    {
     "data": {
      "image/png": "[encoded data removed]",
      "text/plain": [
       "<Figure size 640x480 with 1 Axes>"
      ]
     },
     "metadata": {},
     "output_type": "display_data"
    }
   ],
   "source": [
    "# Using a scatterplot\n",
    "sns.scatterplot(x='Valencia_humidity',y='Valencia_snow_3h',hue='load_shortfall_3h', data=df);"
   ]
  },
  {
   "cell_type": "markdown",
   "id": "64853c23",
   "metadata": {},
   "source": [
    "As indicated by the low correlation coefficient value of **- 0.019** and now the scatterplot, there is a very weak relationship between Valencia_humidity and Valencia_snow_3h."
   ]
  }
 ],
 "metadata": {
  "kernelspec": {
   "display_name": "Python 3 (ipykernel)",
   "language": "python",
   "name": "python3"
  },
  "language_info": {
   "codemirror_mode": {
    "name": "ipython",
    "version": 3
   },
   "file_extension": ".py",
   "mimetype": "text/x-python",
   "name": "python",
   "nbconvert_exporter": "python",
   "pygments_lexer": "ipython3",
   "version": "3.9.13"
  }
 },
 "nbformat": 4,
 "nbformat_minor": 5
}
